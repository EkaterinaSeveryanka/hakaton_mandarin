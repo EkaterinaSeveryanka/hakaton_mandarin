{
  "nbformat": 4,
  "nbformat_minor": 0,
  "metadata": {
    "colab": {
      "provenance": []
    },
    "kernelspec": {
      "name": "python3",
      "display_name": "Python 3"
    },
    "language_info": {
      "name": "python"
    }
  },
  "cells": [
    {
      "cell_type": "code",
      "execution_count": 20,
      "metadata": {
        "colab": {
          "base_uri": "https://localhost:8080/"
        },
        "id": "vbZimzU3EvNb",
        "outputId": "4df71a3f-be10-406f-fabb-7af5a2937152"
      },
      "outputs": [
        {
          "output_type": "stream",
          "name": "stdout",
          "text": [
            "--2023-12-08 12:06:56--  https://www.dropbox.com/scl/fi/1dm9qq6ceyz7dqrob96ix/SF_Mandarin_dataset_ver3_csv.csv?rlkey=jkngphmwkoocingpxoga0uv2v\n",
            "Resolving www.dropbox.com (www.dropbox.com)... 162.125.65.18, 2620:100:6021:18::a27d:4112\n",
            "Connecting to www.dropbox.com (www.dropbox.com)|162.125.65.18|:443... connected.\n",
            "HTTP request sent, awaiting response... 302 Found\n",
            "Location: https://uc37c377fc653ac9a59030279a77.dl.dropboxusercontent.com/cd/0/inline/CJCT2RdGbucPzGquR4OXRLXryMJOSFd0H6miwvbWn_DX-bEnNy0ChLoLv0vi0lIZq4HkfNqbRw482aNLjz3prlb8Ntg5PDlj9JcKvLU1jdnik1JjKOPEhvZDr7oNKC1rL9vB9P7lM9wI6DBCdRR_7aJJ/file# [following]\n",
            "--2023-12-08 12:06:57--  https://uc37c377fc653ac9a59030279a77.dl.dropboxusercontent.com/cd/0/inline/CJCT2RdGbucPzGquR4OXRLXryMJOSFd0H6miwvbWn_DX-bEnNy0ChLoLv0vi0lIZq4HkfNqbRw482aNLjz3prlb8Ntg5PDlj9JcKvLU1jdnik1JjKOPEhvZDr7oNKC1rL9vB9P7lM9wI6DBCdRR_7aJJ/file\n",
            "Resolving uc37c377fc653ac9a59030279a77.dl.dropboxusercontent.com (uc37c377fc653ac9a59030279a77.dl.dropboxusercontent.com)... 162.125.65.15, 2620:100:6021:15::a27d:410f\n",
            "Connecting to uc37c377fc653ac9a59030279a77.dl.dropboxusercontent.com (uc37c377fc653ac9a59030279a77.dl.dropboxusercontent.com)|162.125.65.15|:443... connected.\n",
            "HTTP request sent, awaiting response... 200 OK\n",
            "Length: 2263967 (2.2M) [text/plain]\n",
            "Saving to: ‘SF_Mandarin_dataset_ver3_csv.csv?rlkey=jkngphmwkoocingpxoga0uv2v.1’\n",
            "\n",
            "SF_Mandarin_dataset 100%[===================>]   2.16M  4.50MB/s    in 0.5s    \n",
            "\n",
            "2023-12-08 12:06:58 (4.50 MB/s) - ‘SF_Mandarin_dataset_ver3_csv.csv?rlkey=jkngphmwkoocingpxoga0uv2v.1’ saved [2263967/2263967]\n",
            "\n",
            "Requirement already satisfied: fuzzywuzzy in /usr/local/lib/python3.10/dist-packages (0.18.0)\n",
            "Requirement already satisfied: pyspellchecker in /usr/local/lib/python3.10/dist-packages (0.7.2)\n"
          ]
        }
      ],
      "source": [
        "!wget https://www.dropbox.com/scl/fi/1dm9qq6ceyz7dqrob96ix/SF_Mandarin_dataset_ver3_csv.csv?rlkey=jkngphmwkoocingpxoga0uv2v&dl=0\n",
        "!pip install fuzzywuzzy\n",
        "!pip install pyspellchecker"
      ]
    },
    {
      "cell_type": "code",
      "source": [
        "import pandas as pd\n",
        "from fuzzywuzzy import fuzz, process\n",
        "from spellchecker import SpellChecker\n",
        "df = pd.read_csv('/content/SF_Mandarin_dataset_ver3_csv.csv?rlkey=jkngphmwkoocingpxoga0uv2v',sep=';')\n",
        "\n",
        "df.dropna(inplace=True)\n",
        "df['Position'] = df['Position'].apply(lambda x: x.lower())\n",
        "df['Position'] = df['Position'].str.replace(',', '')\n",
        "df['Position'] = df['Position'].str.rstrip()"
      ],
      "metadata": {
        "id": "EYjG7G6VEycb"
      },
      "execution_count": 21,
      "outputs": []
    },
    {
      "cell_type": "code",
      "source": [
        "df['Position'][:100]"
      ],
      "metadata": {
        "colab": {
          "base_uri": "https://localhost:8080/"
        },
        "id": "a_ZrQet7Uk-C",
        "outputId": "3eac8521-4d3a-473d-9d35-018256de3f59"
      },
      "execution_count": 22,
      "outputs": [
        {
          "output_type": "execute_result",
          "data": {
            "text/plain": [
              "0            начальник п\n",
              "1               директор\n",
              "2               директор\n",
              "3               директор\n",
              "4               директор\n",
              "             ...        \n",
              "95    старший специалист\n",
              "96                 юрист\n",
              "97    старший специалист\n",
              "98        старший менедж\n",
              "99             монтажник\n",
              "Name: Position, Length: 100, dtype: object"
            ]
          },
          "metadata": {},
          "execution_count": 22
        }
      ]
    },
    {
      "cell_type": "code",
      "source": [
        "# Получим все профессии, названия которых состоят из 1 слова\n",
        "all_one_professions = []\n",
        "for prof in df['Position'].unique():\n",
        "  if len(prof.split())==1:\n",
        "    all_one_professions.append(prof)\n",
        "sorted(all_one_professions)\n",
        "\n",
        "all_correct_professions = []"
      ],
      "metadata": {
        "id": "fYqIM__CE2i9"
      },
      "execution_count": 3,
      "outputs": []
    },
    {
      "cell_type": "code",
      "source": [
        "# Получим все корректные названия профессий, которые проходят проверку на орфографию с помощью spellchecker\n",
        "\n",
        "spell = SpellChecker(language='RU')\n",
        "\n",
        "def find_correct_professions(all_professions):\n",
        "    spell = SpellChecker(language='RU')\n",
        "    without_error = []\n",
        "\n",
        "    for word in all_professions:\n",
        "        if spell.correction(word) == word and (set(' .-') & set(word)) == set():\n",
        "            without_error.append(word)\n",
        "\n",
        "    return without_error\n",
        "all_correct_professions = find_correct_professions(df['Position'].unique())"
      ],
      "metadata": {
        "id": "pkydF0DAE5yM"
      },
      "execution_count": 4,
      "outputs": []
    },
    {
      "cell_type": "code",
      "source": [
        "# Удалим вложения в корректных процессиях (например ['бух', 'бухгалтер'] -> ['бух'])\n",
        "# Более простое решение: через множества\n",
        "buf = []\n",
        "for i in range(len(all_correct_professions)):\n",
        "  yes_or_no = False\n",
        "  for j in range(len(all_correct_professions)):\n",
        "    if i!=j and all_correct_professions[i] == all_correct_professions[j][:len(all_correct_professions[i])]:\n",
        "      yes_or_no = True\n",
        "      break\n",
        "  if not yes_or_no:\n",
        "    buf.append(all_correct_professions[i])\n",
        "all_correct_professions = buf\n",
        "#************************************************************"
      ],
      "metadata": {
        "id": "hUSqGyHIE9qe"
      },
      "execution_count": 5,
      "outputs": []
    },
    {
      "cell_type": "code",
      "source": [
        "# Формируем новые названия профессий\n",
        "# Возвращает самое длинное название профессии из числа тех, которые начинаются с prefix\n",
        "def find_longest_word_starting_with(prefix, word_list):\n",
        "    matching_words = [word for word in word_list if word.startswith(prefix)]\n",
        "\n",
        "    if not matching_words:\n",
        "        return prefix\n",
        "\n",
        "    longest_word = max(matching_words, key=len)\n",
        "    return longest_word\n",
        "\n",
        "spell = SpellChecker(language='RU')"
      ],
      "metadata": {
        "id": "8LXAXI3ZE__x"
      },
      "execution_count": 6,
      "outputs": []
    },
    {
      "cell_type": "code",
      "source": [
        "# Непосредственно делаем замену\n",
        "def f(item):\n",
        "    words = item.replace(\"-\", \" \").replace(\"/\", \" \").split()\n",
        "\n",
        "    correct_words = []\n",
        "\n",
        "    for word in words:\n",
        "        # Ищем наилучшее совпадение в списке профессий\n",
        "        best_match, similarity = process.extractOne(word, all_correct_professions)\n",
        "        longest_in_all_ones = find_longest_word_starting_with(word, all_one_professions)\n",
        "\n",
        "        if len(word) <= 1 and words[-1]==word:\n",
        "          continue\n",
        "        if len(word) <=2 or \\\n",
        "             len(best_match) <= 3 or \\\n",
        "             len(word) == len(best_match):\n",
        "          correct_words.append(word)\n",
        "          continue\n",
        "\n",
        "        if word in best_match:\n",
        "          correct_words.append(best_match)\n",
        "          continue\n",
        "\n",
        "        # Если близость выше некоторого порога (может потребоваться настройка), то\n",
        "        # => считаем это совпадением и заменяем слово\n",
        "        if spell.correction(word) != word and similarity > 80:\n",
        "            correct_words.append(best_match)\n",
        "        else:\n",
        "            correct_words.append(longest_in_all_ones)\n",
        "\n",
        "    result = \" \".join(correct_words)\n",
        "\n",
        "    return result\n",
        "res = df['Position'].apply(f)"
      ],
      "metadata": {
        "id": "53Pvkic_FB_b"
      },
      "execution_count": 10,
      "outputs": []
    },
    {
      "cell_type": "code",
      "source": [
        "# Сравнение старых наименований и новых\n",
        "for i in range(100):\n",
        "  print(f\"{i}) {df['Position'].iloc[i]} | {res.iloc[i]}\")"
      ],
      "metadata": {
        "colab": {
          "base_uri": "https://localhost:8080/"
        },
        "id": "X_fFRw8eFYGA",
        "outputId": "6dc39579-416a-4d9a-e009-af862cea47eb"
      },
      "execution_count": 23,
      "outputs": [
        {
          "output_type": "stream",
          "name": "stdout",
          "text": [
            "0) начальник п | начальник\n",
            "1) директор | директор\n",
            "2) директор | директор\n",
            "3) директор | директор\n",
            "4) директор | директор\n",
            "5) строитель | строитель\n",
            "6) директор | директор\n",
            "7) менеджер | менеджер\n",
            "8) менеджер | менеджер\n",
            "9) самозанятая | самозанятая\n",
            "10) директор | директор\n",
            "11) мастер ма | мастер ма\n",
            "12) директор | директор\n",
            "13) самозанятая | самозанятая\n",
            "14) директор | директор\n",
            "15) самозанятая | самозанятая\n",
            "16) начальник п | начальник\n",
            "17) продавец-консультант | продавец консультант\n",
            "18) менеджер | менеджер\n",
            "19) управляющая | управляющая\n",
            "20) старший специалист | старший специалист\n",
            "21) директор | директор\n",
            "22) управляющий | управляющий\n",
            "23) управляющий | управляющий\n",
            "24) самозанятая | самозанятая\n",
            "25) менеджер | менеджер\n",
            "26) продавец | продавец\n",
            "27) продавец-консультант | продавец консультант\n",
            "28) управляющий | управляющий\n",
            "29) старший специалист | старший специалист\n",
            "30) менеджер | менеджер\n",
            "31) старший специалист | старший специалист\n",
            "32) старший специалист | старший специалист\n",
            "33) управляющий | управляющий\n",
            "34) менеджер | менеджер\n",
            "35) генеральный директор | генеральный директор\n",
            "36) начальник смены | начальник смены\n",
            "37) самозанятый | самозанятый\n",
            "38) индивидуальный предприниматель | индивидуальный предприниматель\n",
            "39) инструктор | инструктор\n",
            "40) юрист | юрист\n",
            "41) слесарь мср | слесарь-механик механик мср\n",
            "42) самозанятый | самозанятый\n",
            "43) рабочий производственного цеха | рабочий производственного цеха\n",
            "44) рукводитель | руководитель\n",
            "45) рабочий производственного цеха | рабочий производственного цеха\n",
            "46) самозанятая | самозанятая\n",
            "47) инструктор | инструктор\n",
            "48) юрист | юрист\n",
            "49) рукводитель | руководитель\n",
            "50) преподаватель | преподаватель\n",
            "51) формовщик | формовщик\n",
            "52) слесарь мср | слесарь-механик механик мср\n",
            "53) преподаватель | преподаватель\n",
            "54) самозанятая | самозанятая\n",
            "55) рабочий производственного цеха | рабочий производственного цеха\n",
            "56) генеральный директор | генеральный директор\n",
            "57) генеральный директор | генеральный директор\n",
            "58) генеральный директор | генеральный директор\n",
            "59) повар | повар\n",
            "60) заместитель директора | заместитель директора\n",
            "61) индивидуальный предприниматель | индивидуальный предприниматель\n",
            "62) комплектовщик | комплектовщик\n",
            "63) индивидуальный предприниматель | индивидуальный предприниматель\n",
            "64) индивидуальный предприниматель | индивидуальный предприниматель\n",
            "65) самозанятая | самозанятая\n",
            "66) оценщик | оценщик\n",
            "67) генеральный директор | генеральный директор\n",
            "68) старший специалист | старший специалист\n",
            "69) директор | директор\n",
            "70) старший специалист | старший специалист\n",
            "71) заместитель директора | заместитель директора\n",
            "72) индивидуальный предприниматель | индивидуальный предприниматель\n",
            "73) преподаватель | преподаватель\n",
            "74) юрист | юрист\n",
            "75) преподаватель | преподаватель\n",
            "76) уборщица | уборщица\n",
            "77) заместитель директора | заместитель директора\n",
            "78) монтажник | монтажник\n",
            "79) юрист | юрист\n",
            "80) тренер | тренер\n",
            "81) монтажник | монтажник\n",
            "82) монтажник | монтажник\n",
            "83) тренер | тренер\n",
            "84) главный бухгалтер | главный бухгалтер\n",
            "85) главный бухгалтер | главный бухгалтер\n",
            "86) самозанятая | самозанятая\n",
            "87) преподаватель | преподаватель\n",
            "88) самозанятая | самозанятая\n",
            "89) индивидуальный предприниматель | индивидуальный предприниматель\n",
            "90) мастер отделачник | мастер отдела\n",
            "91) главный бухгалтер | главный бухгалтер\n",
            "92) тренер | тренер\n",
            "93) менеджер | менеджер\n",
            "94) менеджер | менеджер\n",
            "95) старший специалист | старший специалист\n",
            "96) юрист | юрист\n",
            "97) старший специалист | старший специалист\n",
            "98) старший менедж | старший менеджер\n",
            "99) монтажник | монтажник\n"
          ]
        }
      ]
    },
    {
      "cell_type": "code",
      "source": [
        "df['Position'] = res"
      ],
      "metadata": {
        "id": "ccg2YxirFgCK"
      },
      "execution_count": 24,
      "outputs": []
    }
  ]
}