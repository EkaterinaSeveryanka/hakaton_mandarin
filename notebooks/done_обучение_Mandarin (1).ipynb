{
  "nbformat": 4,
  "nbformat_minor": 0,
  "metadata": {
    "colab": {
      "provenance": []
    },
    "kernelspec": {
      "name": "python3",
      "display_name": "Python 3"
    },
    "language_info": {
      "name": "python"
    }
  },
  "cells": [
    {
      "cell_type": "markdown",
      "source": [
        "#Импорт и загрузка"
      ],
      "metadata": {
        "id": "yVD8z4b16rUV"
      }
    },
    {
      "cell_type": "code",
      "source": [
        "import pandas as pd\n",
        "import numpy as np\n",
        "\n",
        "import matplotlib.pyplot as plt\n",
        "import seaborn as sns\n",
        "\n",
        "from sklearn.metrics import f1_score\n",
        "from sklearn.model_selection import train_test_split"
      ],
      "metadata": {
        "id": "mTSMQbL4jNSA"
      },
      "execution_count": null,
      "outputs": []
    },
    {
      "cell_type": "code",
      "source": [
        "pd.set_option('display.max_rows', None)"
      ],
      "metadata": {
        "id": "J8IuKvPXNROD"
      },
      "execution_count": null,
      "outputs": []
    },
    {
      "cell_type": "markdown",
      "source": [
        "# МОДЕЛЬ5"
      ],
      "metadata": {
        "id": "nNfzh8pRucGK"
      }
    },
    {
      "cell_type": "code",
      "source": [
        "df = pd.read_csv('/content/processed_dataset_not_error.csv',sep=',')"
      ],
      "metadata": {
        "id": "kBKKyk_0LOO3"
      },
      "execution_count": null,
      "outputs": []
    },
    {
      "cell_type": "code",
      "source": [
        "!pip install catboost\n"
      ],
      "metadata": {
        "colab": {
          "base_uri": "https://localhost:8080/"
        },
        "id": "WhIT9ANT_mkE",
        "outputId": "7813abf6-135a-4488-eb8d-45505d745687"
      },
      "execution_count": null,
      "outputs": [
        {
          "output_type": "stream",
          "name": "stdout",
          "text": [
            "Requirement already satisfied: catboost in /usr/local/lib/python3.10/dist-packages (1.2.2)\n",
            "Requirement already satisfied: graphviz in /usr/local/lib/python3.10/dist-packages (from catboost) (0.20.1)\n",
            "Requirement already satisfied: matplotlib in /usr/local/lib/python3.10/dist-packages (from catboost) (3.7.1)\n",
            "Requirement already satisfied: numpy>=1.16.0 in /usr/local/lib/python3.10/dist-packages (from catboost) (1.23.5)\n",
            "Requirement already satisfied: pandas>=0.24 in /usr/local/lib/python3.10/dist-packages (from catboost) (1.5.3)\n",
            "Requirement already satisfied: scipy in /usr/local/lib/python3.10/dist-packages (from catboost) (1.11.4)\n",
            "Requirement already satisfied: plotly in /usr/local/lib/python3.10/dist-packages (from catboost) (5.15.0)\n",
            "Requirement already satisfied: six in /usr/local/lib/python3.10/dist-packages (from catboost) (1.16.0)\n",
            "Requirement already satisfied: python-dateutil>=2.8.1 in /usr/local/lib/python3.10/dist-packages (from pandas>=0.24->catboost) (2.8.2)\n",
            "Requirement already satisfied: pytz>=2020.1 in /usr/local/lib/python3.10/dist-packages (from pandas>=0.24->catboost) (2023.3.post1)\n",
            "Requirement already satisfied: contourpy>=1.0.1 in /usr/local/lib/python3.10/dist-packages (from matplotlib->catboost) (1.2.0)\n",
            "Requirement already satisfied: cycler>=0.10 in /usr/local/lib/python3.10/dist-packages (from matplotlib->catboost) (0.12.1)\n",
            "Requirement already satisfied: fonttools>=4.22.0 in /usr/local/lib/python3.10/dist-packages (from matplotlib->catboost) (4.46.0)\n",
            "Requirement already satisfied: kiwisolver>=1.0.1 in /usr/local/lib/python3.10/dist-packages (from matplotlib->catboost) (1.4.5)\n",
            "Requirement already satisfied: packaging>=20.0 in /usr/local/lib/python3.10/dist-packages (from matplotlib->catboost) (23.2)\n",
            "Requirement already satisfied: pillow>=6.2.0 in /usr/local/lib/python3.10/dist-packages (from matplotlib->catboost) (9.4.0)\n",
            "Requirement already satisfied: pyparsing>=2.3.1 in /usr/local/lib/python3.10/dist-packages (from matplotlib->catboost) (3.1.1)\n",
            "Requirement already satisfied: tenacity>=6.2.0 in /usr/local/lib/python3.10/dist-packages (from plotly->catboost) (8.2.3)\n"
          ]
        }
      ]
    },
    {
      "cell_type": "code",
      "source": [
        "X = df.drop('BankA_decision', axis=1)\n",
        "y = df['BankA_decision']"
      ],
      "metadata": {
        "id": "xsKRwENCLIrg"
      },
      "execution_count": null,
      "outputs": []
    },
    {
      "cell_type": "code",
      "source": [
        "X_train, X_val, y_train, y_val = train_test_split(X, y,  test_size=0.2,random_state=0)"
      ],
      "metadata": {
        "id": "r__D6d3PwVnJ"
      },
      "execution_count": null,
      "outputs": []
    },
    {
      "cell_type": "code",
      "source": [
        "from catboost import CatBoostClassifier\n",
        "сatClmodel = CatBoostClassifier(verbose=100,random_seed=2)"
      ],
      "metadata": {
        "id": "3CuiKntD0rOG"
      },
      "execution_count": null,
      "outputs": []
    },
    {
      "cell_type": "code",
      "source": [
        "сatClmodel.fit(X_train, y_train)"
      ],
      "metadata": {
        "id": "Vh61-C3E17ec",
        "colab": {
          "base_uri": "https://localhost:8080/"
        },
        "outputId": "5d1811f9-c567-4f01-c18a-5c8b10ea201d"
      },
      "execution_count": null,
      "outputs": [
        {
          "output_type": "stream",
          "name": "stdout",
          "text": [
            "Learning rate set to 0.020286\n",
            "0:\tlearn: 0.6871928\ttotal: 4.03ms\tremaining: 4.02s\n",
            "100:\tlearn: 0.5409436\ttotal: 356ms\tremaining: 3.17s\n",
            "200:\tlearn: 0.5186622\ttotal: 706ms\tremaining: 2.81s\n",
            "300:\tlearn: 0.4997460\ttotal: 1.06s\tremaining: 2.47s\n",
            "400:\tlearn: 0.4825925\ttotal: 1.41s\tremaining: 2.11s\n",
            "500:\tlearn: 0.4660743\ttotal: 1.75s\tremaining: 1.74s\n",
            "600:\tlearn: 0.4486227\ttotal: 2.12s\tremaining: 1.41s\n",
            "700:\tlearn: 0.4324642\ttotal: 2.47s\tremaining: 1.05s\n",
            "800:\tlearn: 0.4169075\ttotal: 2.83s\tremaining: 702ms\n",
            "900:\tlearn: 0.4020908\ttotal: 3.19s\tremaining: 351ms\n",
            "999:\tlearn: 0.3873604\ttotal: 3.54s\tremaining: 0us\n"
          ]
        },
        {
          "output_type": "execute_result",
          "data": {
            "text/plain": [
              "<catboost.core.CatBoostClassifier at 0x7c381f06a740>"
            ]
          },
          "metadata": {},
          "execution_count": 155
        }
      ]
    },
    {
      "cell_type": "code",
      "source": [
        "predict = сatClmodel.predict(X_val)\n",
        "f1_score(predict, y_val)"
      ],
      "metadata": {
        "id": "_ui_Ll4N2GlM",
        "colab": {
          "base_uri": "https://localhost:8080/"
        },
        "outputId": "b7c658e7-39fc-4e4d-95bd-5461bcbc1aba"
      },
      "execution_count": null,
      "outputs": [
        {
          "output_type": "execute_result",
          "data": {
            "text/plain": [
              "0.866697631212262"
            ]
          },
          "metadata": {},
          "execution_count": 156
        }
      ]
    },
    {
      "cell_type": "markdown",
      "source": [
        "# МОДЕЛЬ0"
      ],
      "metadata": {
        "id": "QXSYG6PSKPWs"
      }
    },
    {
      "cell_type": "code",
      "source": [
        "df = pd.read_csv('/content/processed_dataset_not_error.csv',sep=',')"
      ],
      "metadata": {
        "id": "JjWcuwx-KkQ7"
      },
      "execution_count": null,
      "outputs": []
    },
    {
      "cell_type": "code",
      "source": [
        "from sklearn.preprocessing import StandardScaler\n",
        "\n",
        "def normalize_numeric_features(df, columns):\n",
        "    '''\n",
        "    Normalize numeric columns using StandardScaler\n",
        "    '''\n",
        "    scaler = StandardScaler()\n",
        "    df[columns] = scaler.fit_transform(df[columns])\n",
        "    return df\n",
        "\n",
        "columns_to_normalize = ['education', 'employment status', 'Value', 'Position', 'MonthProfit', 'MonthExpense',\n",
        "                        'Gender', 'Family status', 'ChildCount', 'SNILS', 'Merch_code', 'Loan_amount',\n",
        "                        'Loan_term', 'Goods_category', 'Loan_pay_month', 'work_age', 'age']\n",
        "\n",
        "df = normalize_numeric_features(df=df, columns=columns_to_normalize)"
      ],
      "metadata": {
        "id": "9LSuEBQmnLee"
      },
      "execution_count": null,
      "outputs": []
    },
    {
      "cell_type": "code",
      "source": [
        "#удаляем всё кроме банка А\n",
        "df.drop(['SkillFactory_Id','BankB_decision', 'BankC_decision', 'BankD_decision', 'BankE_decision'], axis=1, inplace=True)"
      ],
      "metadata": {
        "id": "MnFZaTWd68q8"
      },
      "execution_count": null,
      "outputs": []
    },
    {
      "cell_type": "code",
      "source": [
        "from imblearn.over_sampling import SMOTE\n",
        "# Extract numerical columns\n",
        "numeric_columns = columns_to_normalize\n",
        "\n",
        "# Extract non-numeric columns, including datetime columns\n",
        "non_numeric_columns = df.select_dtypes(exclude=['number']).columns\n",
        "\n",
        "# Convert datetime columns to numeric (year only)\n",
        "for column in non_numeric_columns:\n",
        "    if df[column].dtype == 'datetime64[ns]':\n",
        "        df[column] = df[column].dt.year\n",
        "\n",
        "# Separate features and target variable\n",
        "X = df.drop('BankA_decision', axis=1)\n",
        "y = df['BankA_decision']\n",
        "\n",
        "# Apply SMOTE after scaling numerical features\n",
        "scaler = StandardScaler()\n",
        "X[numeric_columns] = scaler.fit_transform(X[numeric_columns])\n",
        "\n",
        "X_resampled, y_resampled = SMOTE().fit_resample(X, y)"
      ],
      "metadata": {
        "id": "xBzJ2wBFnGLB"
      },
      "execution_count": null,
      "outputs": []
    },
    {
      "cell_type": "markdown",
      "source": [
        "### dummy"
      ],
      "metadata": {
        "id": "LoT5bzNMNVlE"
      }
    },
    {
      "cell_type": "code",
      "source": [
        "from sklearn.dummy import DummyClassifier\n",
        "dummy_clf = DummyClassifier(strategy=\"most_frequent\")\n",
        "dummy_clf.fit(X_train, y_train)\n",
        "predict_dummy = dummy_clf.predict(X_val)\n",
        "f1_score(predict_dummy, y_val)"
      ],
      "metadata": {
        "id": "UKvXddy4NVlK",
        "colab": {
          "base_uri": "https://localhost:8080/"
        },
        "outputId": "8b825188-581f-46af-e6bb-b6ba82de3e55"
      },
      "execution_count": null,
      "outputs": [
        {
          "output_type": "execute_result",
          "data": {
            "text/plain": [
              "0.6587215601300108"
            ]
          },
          "metadata": {},
          "execution_count": 143
        }
      ]
    },
    {
      "cell_type": "code",
      "source": [
        "pd.DataFrame(predict_dummy).value_counts()"
      ],
      "metadata": {
        "id": "yxG2gxZdgkNk",
        "colab": {
          "base_uri": "https://localhost:8080/"
        },
        "outputId": "817e827c-9e71-47c8-ba26-1cf78a060846"
      },
      "execution_count": null,
      "outputs": [
        {
          "output_type": "execute_result",
          "data": {
            "text/plain": [
              "1    1857\n",
              "dtype: int64"
            ]
          },
          "metadata": {},
          "execution_count": 144
        }
      ]
    },
    {
      "cell_type": "markdown",
      "source": [
        "# МОДЕЛЬ1"
      ],
      "metadata": {
        "id": "Vv-5BiTCKaX9"
      }
    },
    {
      "cell_type": "code",
      "source": [
        "df = pd.read_csv('/content/processed_dataset_not_error.csv',sep=',')"
      ],
      "metadata": {
        "id": "f-6CUwhoelAw"
      },
      "execution_count": null,
      "outputs": []
    },
    {
      "cell_type": "code",
      "source": [
        "df.info()"
      ],
      "metadata": {
        "colab": {
          "base_uri": "https://localhost:8080/"
        },
        "id": "pUlnom-86TDj",
        "outputId": "7bc66261-9358-4394-8226-b117b685010d"
      },
      "execution_count": null,
      "outputs": [
        {
          "output_type": "stream",
          "name": "stdout",
          "text": [
            "<class 'pandas.core.frame.DataFrame'>\n",
            "RangeIndex: 6110 entries, 0 to 6109\n",
            "Data columns (total 23 columns):\n",
            " #   Column             Non-Null Count  Dtype\n",
            "---  ------             --------------  -----\n",
            " 0   SkillFactory_Id    6110 non-null   int64\n",
            " 1   education          6110 non-null   int64\n",
            " 2   employment status  6110 non-null   int64\n",
            " 3   Value              6110 non-null   int64\n",
            " 4   Position           6110 non-null   int64\n",
            " 5   MonthProfit        6110 non-null   int64\n",
            " 6   MonthExpense       6110 non-null   int64\n",
            " 7   Gender             6110 non-null   int64\n",
            " 8   Family status      6110 non-null   int64\n",
            " 9   ChildCount         6110 non-null   int64\n",
            " 10  SNILS              6110 non-null   int64\n",
            " 11  BankA_decision     6110 non-null   int64\n",
            " 12  BankB_decision     6110 non-null   int64\n",
            " 13  BankC_decision     6110 non-null   int64\n",
            " 14  BankD_decision     6110 non-null   int64\n",
            " 15  BankE_decision     6110 non-null   int64\n",
            " 16  Merch_code         6110 non-null   int64\n",
            " 17  Loan_amount        6110 non-null   int64\n",
            " 18  Loan_term          6110 non-null   int64\n",
            " 19  Goods_category     6110 non-null   int64\n",
            " 20  Loan_pay_month     6110 non-null   int64\n",
            " 21  work_age           6110 non-null   int64\n",
            " 22  age                6110 non-null   int64\n",
            "dtypes: int64(23)\n",
            "memory usage: 1.1 MB\n"
          ]
        }
      ]
    },
    {
      "cell_type": "code",
      "source": [
        "import pandas as pd\n",
        "from sklearn.model_selection import train_test_split\n",
        "from sklearn.preprocessing import StandardScaler\n",
        "from sklearn.ensemble import RandomForestClassifier\n",
        "from sklearn.metrics import roc_auc_score\n",
        "\n",
        "# Assume the dataset is loaded into a DataFrame called df\n",
        "\n",
        "# Separate features (X) and target variables for each bank (y)\n",
        "X = df.drop(['BankA_decision', 'SkillFactory_Id'], axis=1)\n",
        "y = df['BankA_decision']\n",
        "\n",
        "# Split the data into training and testing sets\n",
        "X_train, X_test, y_train, y_test = train_test_split(X, y, test_size=0.2, random_state=42)\n",
        "\n",
        "# Scale the numeric features\n",
        "scaler = StandardScaler()\n",
        "X_train_scaled = scaler.fit_transform(X_train)\n",
        "X_test_scaled = scaler.transform(X_test)\n",
        "\n",
        "# Build and train the model (using RandomForestClassifier) with balanced class weight\n",
        "model = RandomForestClassifier(n_estimators=100, random_state=42, class_weight='balanced')\n",
        "model.fit(X_train_scaled, y_train)\n",
        "\n",
        "# Predict probabilities for Bank A\n",
        "y_pred_prob = model.predict_proba(X_test_scaled)[:, 1]  # Use the predicted probabilities for the positive class\n",
        "\n",
        "# Calculate the ROC AUC score for Bank A\n",
        "roc_auc = roc_auc_score(y_test, y_pred_prob)\n",
        "print(f\"ROC AUC for Bank A: {roc_auc}\")"
      ],
      "metadata": {
        "colab": {
          "base_uri": "https://localhost:8080/"
        },
        "id": "OLsO_S5_3LSk",
        "outputId": "d271fb0e-b3e9-4146-e799-8c10cbbd4da2"
      },
      "execution_count": null,
      "outputs": [
        {
          "output_type": "stream",
          "name": "stdout",
          "text": [
            "ROC AUC for Bank A: 0.47867453560371515\n"
          ]
        }
      ]
    },
    {
      "cell_type": "code",
      "source": [
        "df = pd.read_csv('/content/processed_dataset_not_error.csv',sep=',')"
      ],
      "metadata": {
        "id": "wBgToKavGZ8f"
      },
      "execution_count": null,
      "outputs": []
    },
    {
      "cell_type": "code",
      "source": [
        "import pandas as pd\n",
        "from sklearn.model_selection import train_test_split\n",
        "from sklearn.preprocessing import StandardScaler\n",
        "from sklearn.ensemble import RandomForestClassifier\n",
        "from sklearn.metrics import roc_auc_score\n",
        "\n",
        "# Assume the dataset is loaded into a DataFrame called df\n",
        "\n",
        "# Separate features (X) and target variables for each bank (y)\n",
        "X = df.drop(['BankB_decision', 'SkillFactory_Id'], axis=1)\n",
        "y = df['BankB_decision']\n",
        "\n",
        "# Split the data into training and testing sets\n",
        "X_train, X_test, y_train, y_test = train_test_split(X, y, test_size=0.2, random_state=42)\n",
        "\n",
        "# Scale the numeric features\n",
        "scaler = StandardScaler()\n",
        "X_train_scaled = scaler.fit_transform(X_train)\n",
        "X_test_scaled = scaler.transform(X_test)\n",
        "\n",
        "# Build and train the model (using RandomForestClassifier) with balanced class weight\n",
        "model = RandomForestClassifier(n_estimators=100, random_state=42, class_weight='balanced')\n",
        "model.fit(X_train_scaled, y_train)\n",
        "\n",
        "# Predict probabilities for Bank A\n",
        "y_pred_prob = model.predict_proba(X_test_scaled)[:, 1]  # Use the predicted probabilities for the positive class\n",
        "\n",
        "# Calculate the ROC AUC score for Bank A\n",
        "roc_auc = roc_auc_score(y_test, y_pred_prob)\n",
        "print(f\"ROC AUC for Bank B: {roc_auc}\")"
      ],
      "metadata": {
        "colab": {
          "base_uri": "https://localhost:8080/"
        },
        "id": "Vmx66Xn1GYgy",
        "outputId": "a659907d-380c-45ca-828a-8cd82a49420b"
      },
      "execution_count": null,
      "outputs": [
        {
          "output_type": "stream",
          "name": "stdout",
          "text": [
            "ROC AUC for Bank B: 0.48828646828646827\n"
          ]
        }
      ]
    },
    {
      "cell_type": "code",
      "source": [
        "df = pd.read_csv('/content/processed_dataset_not_error.csv',sep=',')"
      ],
      "metadata": {
        "id": "LRi70YphG3WR"
      },
      "execution_count": null,
      "outputs": []
    },
    {
      "cell_type": "code",
      "source": [
        "import pandas as pd\n",
        "from sklearn.model_selection import train_test_split\n",
        "from sklearn.preprocessing import StandardScaler\n",
        "from sklearn.ensemble import RandomForestClassifier\n",
        "from sklearn.metrics import roc_auc_score\n",
        "\n",
        "# Assume the dataset is loaded into a DataFrame called df\n",
        "\n",
        "# Separate features (X) and target variables for each bank (y)\n",
        "X = df.drop(['BankE_decision', 'SkillFactory_Id'], axis=1)\n",
        "y = df['BankE_decision']\n",
        "\n",
        "# Split the data into training and testing sets\n",
        "X_train, X_test, y_train, y_test = train_test_split(X, y, test_size=0.2, random_state=42)\n",
        "\n",
        "# Scale the numeric features\n",
        "scaler = StandardScaler()\n",
        "X_train_scaled = scaler.fit_transform(X_train)\n",
        "X_test_scaled = scaler.transform(X_test)\n",
        "\n",
        "# Build and train the model (using RandomForestClassifier) with balanced class weight\n",
        "model = RandomForestClassifier(n_estimators=100, random_state=42, class_weight='balanced')\n",
        "model.fit(X_train_scaled, y_train)\n",
        "\n",
        "# Predict probabilities for Bank A\n",
        "y_pred_prob = model.predict_proba(X_test_scaled)[:, 1]  # Use the predicted probabilities for the positive class\n",
        "\n",
        "# Calculate the ROC AUC score for Bank A\n",
        "roc_auc = roc_auc_score(y_test, y_pred_prob)\n",
        "print(f\"ROC AUC for Bank E: {roc_auc}\")"
      ],
      "metadata": {
        "colab": {
          "base_uri": "https://localhost:8080/"
        },
        "id": "ZPQNOEuMG5mE",
        "outputId": "7e2a0967-1e2f-40e1-98ac-b9772973021a"
      },
      "execution_count": null,
      "outputs": [
        {
          "output_type": "stream",
          "name": "stdout",
          "text": [
            "ROC AUC for Bank E: 0.5133412414787231\n"
          ]
        }
      ]
    },
    {
      "cell_type": "markdown",
      "source": [
        "# МОДЕЛЬ2"
      ],
      "metadata": {
        "id": "u0DrAiODnjij"
      }
    },
    {
      "cell_type": "code",
      "source": [
        "from sklearn.model_selection import train_test_split\n",
        "from sklearn.linear_model import LogisticRegression\n",
        "from sklearn.metrics import classification_report, confusion_matrix"
      ],
      "metadata": {
        "id": "xS2fgZouJMOP"
      },
      "execution_count": null,
      "outputs": []
    },
    {
      "cell_type": "code",
      "source": [
        "df = pd.read_csv('/content/processed_dataset_not_error.csv',sep=',')"
      ],
      "metadata": {
        "id": "7j39byzTIc2l"
      },
      "execution_count": null,
      "outputs": []
    },
    {
      "cell_type": "code",
      "source": [
        "\n",
        "X = df.drop(['BankA_decision', 'SkillFactory_Id'], axis=1)\n",
        "y = df['BankA_decision']\n",
        "\n",
        "X_train, X_test, y_train, y_test = train_test_split(X, y, test_size=0.2, random_state=42)\n",
        "\n",
        "clf = LogisticRegression(class_weight='balanced')\n",
        "clf.fit(X_train, y_train)\n",
        "\n",
        "probabilities = clf.predict_proba(X_test)"
      ],
      "metadata": {
        "id": "sgp6SBFm-qf4"
      },
      "execution_count": null,
      "outputs": []
    },
    {
      "cell_type": "code",
      "source": [
        "# Use the trained model to make predictions\n",
        "predictions = clf.predict(X_test)\n",
        "\n",
        "# Print classification report\n",
        "print(classification_report(y_test, predictions))\n",
        "\n",
        "# Print confusion matrix\n",
        "print(confusion_matrix(y_test, predictions))"
      ],
      "metadata": {
        "colab": {
          "base_uri": "https://localhost:8080/"
        },
        "id": "mp3TifgXIyGZ",
        "outputId": "147ab8bf-0f52-4507-e097-168e9ac8f4e7"
      },
      "execution_count": null,
      "outputs": [
        {
          "output_type": "stream",
          "name": "stdout",
          "text": [
            "              precision    recall  f1-score   support\n",
            "\n",
            "           0       0.23      0.54      0.33       272\n",
            "           1       0.79      0.49      0.61       950\n",
            "\n",
            "    accuracy                           0.50      1222\n",
            "   macro avg       0.51      0.52      0.47      1222\n",
            "weighted avg       0.67      0.50      0.54      1222\n",
            "\n",
            "[[147 125]\n",
            " [482 468]]\n"
          ]
        }
      ]
    },
    {
      "cell_type": "markdown",
      "source": [
        "# МОДЕЛЬ3"
      ],
      "metadata": {
        "id": "BlplRGg0Ik2p"
      }
    },
    {
      "cell_type": "code",
      "source": [
        "df = pd.read_csv('/content/processed_dataset_not_error.csv',sep=',')"
      ],
      "metadata": {
        "id": "FhOjau8MKCJ6"
      },
      "execution_count": null,
      "outputs": []
    },
    {
      "cell_type": "code",
      "source": [
        "from sklearn.preprocessing import StandardScaler\n",
        "from imblearn.over_sampling import SMOTE\n",
        "from sklearn.dummy import DummyClassifier\n",
        "from sklearn.metrics import f1_score\n",
        "\n",
        "# Define a function to normalize numeric features\n",
        "def normalize_numeric_features(df, columns):\n",
        "    '''\n",
        "    Normalize numeric columns using StandardScaler\n",
        "    '''\n",
        "    scaler = StandardScaler()\n",
        "    df[columns] = scaler.fit_transform(df[columns])\n",
        "    return df\n",
        "\n",
        "# Define columns to normalize\n",
        "columns_to_normalize = ['Value', 'MonthProfit', 'MonthExpense', 'ChildCount', 'Loan_amount',\n",
        "                        'Loan_term', 'Loan_pay_month', 'work_age', 'age']\n",
        "\n",
        "\n",
        "# Apply normalization to numeric features\n",
        "df = normalize_numeric_features(df, columns_to_normalize)\n",
        "\n",
        "# # Drop unnecessary columns\n",
        "# df.drop(['SkillFactory_Id', 'BankB_decision', 'BankC_decision', 'BankD_decision', 'BankE_decision'], axis=1, inplace=True)\n",
        "\n",
        "# Convert datetime columns to numeric (year only)\n",
        "date_columns = df.select_dtypes(include=['datetime64']).columns\n",
        "for column in date_columns:\n",
        "    df[column] = df[column].dt.year\n",
        "\n",
        "# Separate features and target variable\n",
        "X = df.drop('BankA_decision', axis=1)\n",
        "y = df['BankA_decision']\n",
        "\n",
        "# Apply SMOTE for oversampling\n",
        "smote = SMOTE()\n",
        "X_resampled, y_resampled = smote.fit_resample(X, y)\n",
        "\n",
        "# Split your data into training and validation sets\n",
        "X_train, X_val, y_train, y_val = train_test_split(X_resampled, y_resampled, test_size=0.2, random_state=42)\n",
        "\n",
        "from sklearn.linear_model import LogisticRegression\n",
        "clf = LogisticRegression()\n",
        "clf.fit(X_resampled, y_resampled)\n",
        "\n",
        "\n",
        "# Train a Dummy Classifier for baseline comparison\n",
        "dummy_clf = DummyClassifier(strategy=\"most_frequent\")\n",
        "dummy_clf.fit(X_train, y_train)\n",
        "predict_dummy = dummy_clf.predict(X_val)\n",
        "f1 = f1_score(predict_dummy, y_val)\n",
        "print(f\"F1 Score for Dummy Classifier: {f1}\")"
      ],
      "metadata": {
        "colab": {
          "base_uri": "https://localhost:8080/"
        },
        "id": "B6mwuQ449LW2",
        "outputId": "47d1fbbc-3034-49ec-d538-826ebbb89e25"
      },
      "execution_count": null,
      "outputs": [
        {
          "output_type": "stream",
          "name": "stdout",
          "text": [
            "F1 Score for Dummy Classifier: 0.6587215601300108\n"
          ]
        }
      ]
    }
  ]
}